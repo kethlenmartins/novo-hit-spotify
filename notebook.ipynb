{
 "cells": [
  {
   "cell_type": "markdown",
   "metadata": {},
   "source": [
    "# 1. Importação de bibliotecas e leitura dos dados"
   ]
  },
  {
   "cell_type": "markdown",
   "metadata": {},
   "source": [
    "Para começar o tratamento e conhecimento dos dados, é necessário importá-los dos arquivos em que se encontram e também fazer a importação das bibliotecas que auxiliarão na criação do melhor modelo possível."
   ]
  },
  {
   "cell_type": "code",
   "execution_count": 1,
   "metadata": {},
   "outputs": [],
   "source": [
    "import pandas as pd\n",
    "import numpy as np\n",
    "from sklearn.preprocessing import MinMaxScaler\n",
    "from category_encoders import OrdinalEncoder\n",
    "import seaborn as sns\n",
    "import matplotlib.pyplot as plt\n",
    "from sklearn.model_selection import train_test_split, GridSearchCV\n",
    "from sklearn.neighbors import KNeighborsClassifier\n",
    "from sklearn.metrics import classification_report, confusion_matrix, accuracy_score\n"
   ]
  },
  {
   "cell_type": "code",
   "execution_count": 2,
   "metadata": {},
   "outputs": [],
   "source": [
    "df_train = pd.read_csv('train.csv')"
   ]
  },
  {
   "cell_type": "code",
   "execution_count": 3,
   "metadata": {},
   "outputs": [
    {
     "name": "stdout",
     "output_type": "stream",
     "text": [
      "<class 'pandas.core.frame.DataFrame'>\n",
      "RangeIndex: 79800 entries, 0 to 79799\n",
      "Data columns (total 21 columns):\n",
      " #   Column             Non-Null Count  Dtype  \n",
      "---  ------             --------------  -----  \n",
      " 0   track_unique_id    79800 non-null  int64  \n",
      " 1   track_id           79800 non-null  object \n",
      " 2   artists            79800 non-null  object \n",
      " 3   album_name         79800 non-null  object \n",
      " 4   track_name         79800 non-null  object \n",
      " 5   duration_ms        79800 non-null  int64  \n",
      " 6   explicit           79800 non-null  bool   \n",
      " 7   danceability       79800 non-null  float64\n",
      " 8   energy             79800 non-null  float64\n",
      " 9   key                79800 non-null  int64  \n",
      " 10  loudness           79800 non-null  float64\n",
      " 11  mode               79800 non-null  int64  \n",
      " 12  speechiness        79800 non-null  float64\n",
      " 13  acousticness       79800 non-null  float64\n",
      " 14  instrumentalness   79800 non-null  float64\n",
      " 15  liveness           79800 non-null  float64\n",
      " 16  valence            79800 non-null  float64\n",
      " 17  tempo              79800 non-null  float64\n",
      " 18  time_signature     79800 non-null  int64  \n",
      " 19  track_genre        79800 non-null  object \n",
      " 20  popularity_target  79800 non-null  int64  \n",
      "dtypes: bool(1), float64(9), int64(6), object(5)\n",
      "memory usage: 12.3+ MB\n"
     ]
    }
   ],
   "source": [
    "df_train.info()"
   ]
  },
  {
   "cell_type": "code",
   "execution_count": 4,
   "metadata": {},
   "outputs": [],
   "source": [
    "df_test = pd.read_csv('test.csv')"
   ]
  },
  {
   "cell_type": "markdown",
   "metadata": {},
   "source": [
    "# 2. Tratamento de valores nulos e outliers"
   ]
  },
  {
   "cell_type": "markdown",
   "metadata": {},
   "source": [
    "Para tornar o conjunto de dados mais coeso e consistente, é necessário realizar o tratamento de valores que possam causar ruídos nos dados, como os faltantes ou fora do padrão de \"normalidade\" dos dados. Assim, foi realizado o tratamento de valores outliers e nulos presentes no dataframe."
   ]
  },
  {
   "cell_type": "markdown",
   "metadata": {},
   "source": [
    "## 2.2 Tratamento de valores nulos"
   ]
  },
  {
   "cell_type": "code",
   "execution_count": 5,
   "metadata": {},
   "outputs": [
    {
     "data": {
      "text/plain": [
       "' valores_nulos = df_train[df_train.isnull().any(axis=1)]\\ndf_train.isnull().sum()\\ndf_train.dropna(inplace=True) '"
      ]
     },
     "execution_count": 5,
     "metadata": {},
     "output_type": "execute_result"
    }
   ],
   "source": [
    "\"\"\" valores_nulos = df_train[df_train.isnull().any(axis=1)]\n",
    "df_train.isnull().sum()\n",
    "df_train.dropna(inplace=True) \"\"\""
   ]
  },
  {
   "cell_type": "code",
   "execution_count": 6,
   "metadata": {},
   "outputs": [
    {
     "data": {
      "text/plain": [
       "' valores_nulos = df_test[df_test.isnull().any(axis=1)]\\ndf_test.isnull().sum()\\ndf_test.dropna(inplace=True) '"
      ]
     },
     "execution_count": 6,
     "metadata": {},
     "output_type": "execute_result"
    }
   ],
   "source": [
    "\"\"\" valores_nulos = df_test[df_test.isnull().any(axis=1)]\n",
    "df_test.isnull().sum()\n",
    "df_test.dropna(inplace=True) \"\"\""
   ]
  },
  {
   "cell_type": "markdown",
   "metadata": {},
   "source": [
    "# 3. Codificação das variáveis categóricas"
   ]
  },
  {
   "cell_type": "markdown",
   "metadata": {},
   "source": [
    "Os computadores são máquinas que nem sempre conseguem entender variáveis categóricas, ou seja, aquelas que são expressas de outras formas além de números. Para isso, é necessário realizar uma encodificação - ou seja, transformar os valores de dados categóricos em dados numéricos para que o computador possa interpretá-los. O método escolhido foi o Label Encoder, ou seja, transforma cada um dos valores únicos em um número inteiro e sequencial."
   ]
  },
  {
   "cell_type": "markdown",
   "metadata": {},
   "source": [
    "## 3.1 Codificação das colunas no conjunto de treino"
   ]
  },
  {
   "cell_type": "code",
   "execution_count": 7,
   "metadata": {},
   "outputs": [
    {
     "name": "stdout",
     "output_type": "stream",
     "text": [
      "   track_unique_id  track_id  artists  album_name  track_name  duration_ms  \\\n",
      "0            41996     64239    13481       18054       29483       211533   \n",
      "1            76471     50962     7754       10815        1549       196000   \n",
      "2            54809     60021    21526       28726       35849       216506   \n",
      "3            16326     13905     8029       24834       25598       218346   \n",
      "4           109799     35296    20008       26251       44199       173160   \n",
      "\n",
      "   explicit  danceability  energy  key  ...  mode  speechiness  acousticness  \\\n",
      "0     False         0.305  0.8490    9  ...     1       0.0549      0.000058   \n",
      "1     False         0.287  0.1900    7  ...     0       0.0370      0.930000   \n",
      "2     False         0.583  0.5090    1  ...     1       0.0362      0.777000   \n",
      "3     False         0.163  0.0368    8  ...     1       0.0472      0.991000   \n",
      "4     False         0.647  0.9210    2  ...     1       0.1850      0.000939   \n",
      "\n",
      "   instrumentalness  liveness  valence    tempo  time_signature  track_genre  \\\n",
      "0          0.056700    0.4640   0.3200  141.793               4           41   \n",
      "1          0.000356    0.0834   0.1330   83.685               4           76   \n",
      "2          0.202000    0.1150   0.5440   90.459               3           54   \n",
      "3          0.899000    0.1070   0.0387   69.442               3           16   \n",
      "4          0.371000    0.1310   0.1710  137.981               4          109   \n",
      "\n",
      "   popularity_target  \n",
      "0                  0  \n",
      "1                  0  \n",
      "2                  1  \n",
      "3                  0  \n",
      "4                  0  \n",
      "\n",
      "[5 rows x 21 columns]\n"
     ]
    }
   ],
   "source": [
    "import pandas as pd\n",
    "from sklearn.preprocessing import LabelEncoder\n",
    "\n",
    "# Inicializar o LabelEncoder\n",
    "label_encoder = LabelEncoder()\n",
    "\n",
    "# Colunas categóricas a serem codificadas\n",
    "categorical_columns = ['track_id', 'artists', 'album_name', 'track_name', 'track_genre']\n",
    "\n",
    "# Aplicar o LabelEncoder a cada coluna categórica\n",
    "for column in categorical_columns:\n",
    "    df_train[column] = label_encoder.fit_transform(df_train[column])\n",
    "\n",
    "# Verificar o resultado\n",
    "print(df_train.head())\n"
   ]
  },
  {
   "cell_type": "markdown",
   "metadata": {},
   "source": [
    "## 3.2 Codificação das colunas no conjunto de teste"
   ]
  },
  {
   "cell_type": "code",
   "execution_count": 8,
   "metadata": {},
   "outputs": [
    {
     "name": "stdout",
     "output_type": "stream",
     "text": [
      "   track_unique_id  track_id  artists  album_name  track_name  duration_ms  \\\n",
      "0           113186     25507     5751       11698       15371       440247   \n",
      "1            42819     10640     6116        7004        7331        93933   \n",
      "2            59311     22435    14892       11747       19101       213578   \n",
      "3            91368     28552     2086        1075       14049       151387   \n",
      "4            61000     18449     9792       20017       27171       236293   \n",
      "\n",
      "   explicit  danceability  energy  key  loudness  mode  speechiness  \\\n",
      "0     False         0.369   0.598    7    -6.984     1       0.0304   \n",
      "1     False         0.171   0.997    7    -3.586     1       0.1180   \n",
      "2     False         0.173   0.803    9   -10.071     0       0.1440   \n",
      "3     False         0.683   0.511    6    -5.598     1       0.0279   \n",
      "4     False         0.555   0.941    9    -3.294     0       0.0481   \n",
      "\n",
      "   acousticness  instrumentalness  liveness  valence    tempo  time_signature  \\\n",
      "0       0.00511          0.000000     0.176   0.0466  148.014               4   \n",
      "1       0.00521          0.801000     0.420   0.0294  122.223               4   \n",
      "2       0.61300          0.001910     0.195   0.0887   75.564               3   \n",
      "3       0.40600          0.000197     0.111   0.5980  109.991               3   \n",
      "4       0.48400          0.000000     0.266   0.8130   92.487               4   \n",
      "\n",
      "   track_genre  \n",
      "0          113  \n",
      "1           42  \n",
      "2           59  \n",
      "3           90  \n",
      "4           61  \n"
     ]
    }
   ],
   "source": [
    "# Inicializar o LabelEncoder\n",
    "label_encoder = LabelEncoder()\n",
    "\n",
    "# Colunas categóricas a serem codificadas\n",
    "categorical_columns = ['track_id', 'artists', 'album_name', 'track_name', 'track_genre']\n",
    "\n",
    "# Aplicar o LabelEncoder a cada coluna categórica\n",
    "for column in categorical_columns:\n",
    "    df_test[column] = label_encoder.fit_transform(df_test[column])\n",
    "\n",
    "# Verificar o resultado\n",
    "print(df_test.head())\n"
   ]
  },
  {
   "cell_type": "markdown",
   "metadata": {},
   "source": [
    "# 4. Análise exploratória dos dados"
   ]
  },
  {
   "cell_type": "markdown",
   "metadata": {},
   "source": [
    "Para conhecer melhor a relação entre os dados, é necessário realizar a análise exploratória dos mesmos. Essa análise consiste em entender quais as relações existentes entre os dados e encontrar insights que podem ajudar a compreender quais as features que mais afetam o conjunto de dados."
   ]
  },
  {
   "cell_type": "markdown",
   "metadata": {},
   "source": [
    "## 4.1 Análise da popularidade por gênero musical"
   ]
  },
  {
   "cell_type": "code",
   "execution_count": 9,
   "metadata": {},
   "outputs": [],
   "source": [
    "plt.figure(figsize=(20, 6))\n",
    "sns.barplot(x='track_genre', y='popularity_target', data=df_train)\n",
    "plt.title('Popularidade por Gênero de Música')\n",
    "plt.xticks(rotation=90)\n",
    "plt.show()"
   ]
  },
  {
   "cell_type": "markdown",
   "metadata": {},
   "source": [
    "## 4.2 Análise da popularidade por danceability"
   ]
  },
  {
   "cell_type": "code",
   "execution_count": 10,
   "metadata": {},
   "outputs": [],
   "source": [
    "import pandas as pd\n",
    "import matplotlib.pyplot as plt\n",
    "import seaborn as sns\n",
    "\n",
    "# Supondo que seu DataFrame se chame df_train\n",
    "# df_train = pd.read_csv('seu_arquivo.csv')  # Carregar seu DataFrame\n",
    "\n",
    "# Calcular a média de danceability\n",
    "danceability_mean = df_train['danceability'].mean()\n",
    "\n",
    "# Criar uma nova coluna categórica com base na média de danceability\n",
    "df_train['danceability_category'] = df_train['danceability'].apply(\n",
    "    lambda x: 'Menor que Média' if x < danceability_mean else 'Maior que Média'\n",
    ")\n",
    "\n",
    "# Calcular a média de popularidade por categoria\n",
    "popularity_by_danceability = df_train.groupby('danceability_category')['popularity_target'].mean().reset_index()\n",
    "\n",
    "# Criar o gráfico de barras\n",
    "plt.figure(figsize=(8, 6))\n",
    "sns.barplot(x='danceability_category', y='popularity_target', data=popularity_by_danceability, palette='viridis')\n",
    "plt.title('Média de Popularidade por Categoria de Danceability')\n",
    "plt.xlabel('Categoria de Danceability')\n",
    "plt.ylabel('Média de Popularidade')\n",
    "plt.xticks(rotation=0)  # Gira os rótulos do eixo x se necessário\n",
    "plt.axhline(0.5, color='red', linestyle='--', label='Limite de Popularidade')\n",
    "plt.legend()\n",
    "plt.grid(True)\n",
    "plt.show()\n"
   ]
  },
  {
   "cell_type": "markdown",
   "metadata": {},
   "source": [
    "## 4.3 Análise da distribuição de dados entre as variáveis numéricas"
   ]
  },
  {
   "cell_type": "code",
   "execution_count": 11,
   "metadata": {},
   "outputs": [],
   "source": [
    "# Definindo colunas numéricas e categóricas\n",
    "numeric_cols = ['duration_ms', 'danceability', 'energy', 'loudness', \n",
    "                'speechiness', 'acousticness', 'instrumentalness', \n",
    "                'liveness', 'valence', 'tempo']\n",
    "categorical_cols = ['track_id', 'artists', 'album_name', 'track_name', 'track_genre']\n",
    "\n",
    "# Criar gráficos para colunas numéricas\n",
    "plt.figure(figsize=(15, 10))\n",
    "for i, col in enumerate(numeric_cols):\n",
    "    plt.subplot(3, 4, i + 1)\n",
    "    sns.boxplot(x='popularity_target', y=col, data=df_train)\n",
    "    plt.title(f'Boxplot de {col} por Popularidade')\n",
    "    plt.xlabel('Popularidade (0: Não Popular, 1: Popular)')\n",
    "    plt.ylabel(col)\n",
    "plt.tight_layout()\n",
    "plt.show()\n"
   ]
  },
  {
   "cell_type": "markdown",
   "metadata": {},
   "source": [
    "## 4.4 Análise da distribuição de dados pelas variáveis categóricas"
   ]
  },
  {
   "cell_type": "code",
   "execution_count": 12,
   "metadata": {},
   "outputs": [
    {
     "data": {
      "text/plain": [
       "\" # Criar gráficos para colunas categóricas\\nplt.figure(figsize=(15, 10))\\nfor i, col in enumerate(categorical_cols):\\n    plt.subplot(2, 3, i + 1)\\n    sns.barplot(x=col, y='popularity_target', data=df_train, estimator=lambda x: sum(x)/len(x))\\n    plt.title(f'Média de Popularidade por {col}')\\n    plt.xlabel(col)\\n    plt.ylabel('Média de Popularidade')\\n    plt.xticks(rotation=45, ha='right')\\nplt.tight_layout()\\nplt.show() \""
      ]
     },
     "execution_count": 12,
     "metadata": {},
     "output_type": "execute_result"
    }
   ],
   "source": [
    "# Criar gráficos para colunas categóricas\n",
    "plt.figure(figsize=(15, 10))\n",
    "for i, col in enumerate(categorical_cols):\n",
    "    plt.subplot(2, 3, i + 1)\n",
    "    sns.barplot(x=col, y='popularity_target', data=df_train, estimator=lambda x: sum(x)/len(x))\n",
    "    plt.title(f'Média de Popularidade por {col}')\n",
    "    plt.xlabel(col)\n",
    "    plt.ylabel('Média de Popularidade')\n",
    "    plt.xticks(rotation=45, ha='right')\n",
    "plt.tight_layout()\n",
    "plt.show()"
   ]
  },
  {
   "cell_type": "code",
   "execution_count": 13,
   "metadata": {},
   "outputs": [
    {
     "data": {
      "image/png": "[encoded data removed]",
      "text/plain": [
       "<Figure size 2500x800 with 1 Axes>"
      ]
     },
     "metadata": {},
     "output_type": "display_data"
    },
    {
     "data": {
      "image/png": "[encoded data removed]",
      "text/plain": [
       "<Figure size 2500x800 with 1 Axes>"
      ]
     },
     "metadata": {},
     "output_type": "display_data"
    },
    {
     "data": {
      "image/png": "[encoded data removed]",
      "text/plain": [
       "<Figure size 2500x800 with 1 Axes>"
      ]
     },
     "metadata": {},
     "output_type": "display_data"
    },
    {
     "data": {
      "image/png": "[encoded data removed]",
      "text/plain": [
       "<Figure size 2500x800 with 1 Axes>"
      ]
     },
     "metadata": {},
     "output_type": "display_data"
    }
   ],
   "source": [
    "# Contagem de popularidade para algumas features categóricas\n",
    "for col in [\n",
    "    'explicit',\n",
    "    'key',\n",
    "    'time_signature',\n",
    "    'mode']:\n",
    "    plt.figure(figsize=(25, 8))\n",
    "    sns.barplot(x=col, y='popularity_target', data=df_train)\n",
    "    plt.title(f'Relação entre {col} e Popularidade')\n",
    "    plt.xlabel(col)\n",
    "    plt.ylabel('Popularidade')\n",
    "    plt.show()\n"
   ]
  },
  {
   "cell_type": "code",
   "execution_count": 14,
   "metadata": {},
   "outputs": [
    {
     "data": {
      "text/plain": [
       "array([ 54,  80,   0,  83,  35,  74,  33,  29,  21,  57,   6,  81,  17,\n",
       "        48, 106,  15,  87,  12, 111,  90,  19,  39,  38,  41,  69,  23,\n",
       "        34,  22,  47,  55,  77,   9,  86,  79, 110,  56,  40, 101,  97,\n",
       "        63,  89,  68, 107,  32,  94, 102,  85,  37,   2,  24,  96,   8,\n",
       "        36,  51,  65,  72,  71,  58,  11, 104,  82,  27,  98,  14,   4,\n",
       "        99,  20,  10,  62, 113,  70,  30, 100,  16,  45,  26,  67,  92,\n",
       "         5,  84,  53,  49,  28,  73,   3,  91, 103,  25, 109, 105,  44,\n",
       "        52,  64,  88,  60,  43,  31, 112,   1,  75,  95,   7,  61,  50,\n",
       "        76,  78,  46,  18,  42,  66,  13, 108])"
      ]
     },
     "execution_count": 14,
     "metadata": {},
     "output_type": "execute_result"
    }
   ],
   "source": [
    "df_train.loc[df_train['popularity_target'] == 1, 'track_genre'].unique()"
   ]
  },
  {
   "cell_type": "code",
   "execution_count": 15,
   "metadata": {},
   "outputs": [
    {
     "data": {
      "text/plain": [
       "track_genre\n",
       "40     701\n",
       "94     701\n",
       "35     697\n",
       "112    688\n",
       "74     688\n",
       "97     684\n",
       "55     681\n",
       "9      677\n",
       "77     677\n",
       "15     667\n",
       "81     658\n",
       "65     654\n",
       "96     635\n",
       "5      635\n",
       "83     606\n",
       "29     577\n",
       "113    569\n",
       "23     567\n",
       "4      564\n",
       "87     562\n",
       "dtype: int64"
      ]
     },
     "execution_count": 15,
     "metadata": {},
     "output_type": "execute_result"
    }
   ],
   "source": [
    "# Filtrar as músicas com popularity_target igual a 1\n",
    "df_popular = df_train[df_train['popularity_target'] == 1]\n",
    "\n",
    "# Contar quantas músicas de cada track_genre existem com popularity = 1\n",
    "genre_count = df_popular.groupby('track_genre').size().sort_values(ascending=False)\n",
    "explicit_count = df_popular.groupby('explicit').size().sort_values(ascending=False)\n",
    "danceability_count = df_popular.groupby('danceability').size().sort_values(ascending=False)\n",
    "valence_count = df_popular.groupby('valence').size().sort_values(ascending=False)\n",
    "instrumentalness_count = df_popular.groupby('instrumentalness').size().sort_values(ascending=False)\n",
    "energy_count = df_popular.groupby('energy').size().sort_values(ascending=False)\n",
    "acousticness_count = df_popular.groupby('acousticness').size().sort_values(ascending=False)\n",
    "\n",
    "genre_count.head(20)\n"
   ]
  },
  {
   "cell_type": "code",
   "execution_count": 16,
   "metadata": {},
   "outputs": [
    {
     "data": {
      "text/plain": [
       "explicit\n",
       "False    35412\n",
       "True      3518\n",
       "dtype: int64"
      ]
     },
     "execution_count": 16,
     "metadata": {},
     "output_type": "execute_result"
    }
   ],
   "source": [
    "explicit_count"
   ]
  },
  {
   "cell_type": "code",
   "execution_count": 17,
   "metadata": {},
   "outputs": [
    {
     "data": {
      "text/plain": [
       "danceability\n",
       "0.521    120\n",
       "0.639    119\n",
       "0.533    119\n",
       "0.647    116\n",
       "0.598    115\n",
       "0.649    114\n",
       "0.651    114\n",
       "0.602    114\n",
       "0.560    113\n",
       "0.661    112\n",
       "0.603    112\n",
       "0.509    111\n",
       "0.607    110\n",
       "0.545    109\n",
       "0.671    109\n",
       "0.592    108\n",
       "0.541    108\n",
       "0.609    108\n",
       "0.576    107\n",
       "0.573    107\n",
       "0.682    107\n",
       "0.633    107\n",
       "0.662    107\n",
       "0.650    106\n",
       "0.534    106\n",
       "0.653    106\n",
       "0.486    106\n",
       "0.670    105\n",
       "0.636    105\n",
       "0.568    105\n",
       "0.687    105\n",
       "0.643    104\n",
       "0.690    104\n",
       "0.489    103\n",
       "0.606    103\n",
       "0.648    103\n",
       "0.714    103\n",
       "0.657    103\n",
       "0.579    102\n",
       "0.629    102\n",
       "0.608    102\n",
       "0.631    102\n",
       "0.591    102\n",
       "0.550    101\n",
       "0.586    100\n",
       "0.495    100\n",
       "0.616    100\n",
       "0.593    100\n",
       "0.590    100\n",
       "0.554    100\n",
       "dtype: int64"
      ]
     },
     "execution_count": 17,
     "metadata": {},
     "output_type": "execute_result"
    }
   ],
   "source": [
    "danceability_count.head(50)"
   ]
  },
  {
   "cell_type": "code",
   "execution_count": 18,
   "metadata": {},
   "outputs": [
    {
     "data": {
      "text/plain": [
       "valence\n",
       "0.962    80\n",
       "0.486    79\n",
       "0.215    78\n",
       "0.342    74\n",
       "0.400    73\n",
       "0.183    71\n",
       "0.336    71\n",
       "0.380    71\n",
       "0.352    71\n",
       "0.435    71\n",
       "0.238    71\n",
       "0.332    70\n",
       "0.453    70\n",
       "0.695    70\n",
       "0.193    69\n",
       "0.446    69\n",
       "0.619    69\n",
       "0.475    68\n",
       "0.249    68\n",
       "0.308    67\n",
       "dtype: int64"
      ]
     },
     "execution_count": 18,
     "metadata": {},
     "output_type": "execute_result"
    }
   ],
   "source": [
    "valence_count.head(20)"
   ]
  },
  {
   "cell_type": "code",
   "execution_count": 19,
   "metadata": {},
   "outputs": [
    {
     "data": {
      "text/plain": [
       "instrumentalness\n",
       "0.000    14551\n",
       "0.929       41\n",
       "0.895       37\n",
       "0.905       36\n",
       "0.901       36\n",
       "0.900       35\n",
       "0.916       33\n",
       "0.897       32\n",
       "0.907       32\n",
       "0.927       32\n",
       "0.942       32\n",
       "0.938       32\n",
       "0.933       32\n",
       "0.910       32\n",
       "0.906       32\n",
       "0.913       31\n",
       "0.934       31\n",
       "0.915       31\n",
       "0.877       30\n",
       "0.878       30\n",
       "dtype: int64"
      ]
     },
     "execution_count": 19,
     "metadata": {},
     "output_type": "execute_result"
    }
   ],
   "source": [
    "instrumentalness_count.head(20)"
   ]
  },
  {
   "cell_type": "code",
   "execution_count": 20,
   "metadata": {},
   "outputs": [
    {
     "data": {
      "text/plain": [
       "energy\n",
       "0.670    96\n",
       "0.892    92\n",
       "0.720    89\n",
       "0.886    85\n",
       "0.823    85\n",
       "0.857    84\n",
       "0.850    82\n",
       "0.828    82\n",
       "0.920    82\n",
       "0.802    81\n",
       "0.871    81\n",
       "0.869    81\n",
       "0.687    80\n",
       "0.737    80\n",
       "0.873    79\n",
       "0.564    78\n",
       "0.953    78\n",
       "0.864    78\n",
       "0.716    78\n",
       "0.743    78\n",
       "dtype: int64"
      ]
     },
     "execution_count": 20,
     "metadata": {},
     "output_type": "execute_result"
    }
   ],
   "source": [
    "energy_count.head(20)"
   ]
  },
  {
   "cell_type": "code",
   "execution_count": 21,
   "metadata": {},
   "outputs": [
    {
     "data": {
      "text/plain": [
       "acousticness\n",
       "0.995    80\n",
       "0.157    70\n",
       "0.992    70\n",
       "0.994    67\n",
       "0.101    62\n",
       "0.102    61\n",
       "0.109    61\n",
       "0.108    60\n",
       "0.993    60\n",
       "0.191    58\n",
       "0.991    57\n",
       "0.105    55\n",
       "0.129    55\n",
       "0.124    54\n",
       "0.111    54\n",
       "0.110    52\n",
       "0.142    52\n",
       "0.107    51\n",
       "0.132    51\n",
       "0.114    51\n",
       "0.178    50\n",
       "0.158    50\n",
       "0.118    50\n",
       "0.119    50\n",
       "0.172    50\n",
       "0.145    50\n",
       "0.106    49\n",
       "0.777    48\n",
       "0.120    48\n",
       "0.168    48\n",
       "dtype: int64"
      ]
     },
     "execution_count": 21,
     "metadata": {},
     "output_type": "execute_result"
    }
   ],
   "source": [
    "acousticness_count.head(30)"
   ]
  },
  {
   "cell_type": "markdown",
   "metadata": {},
   "source": [
    "# 5. Construção de hipóteses"
   ]
  },
  {
   "cell_type": "markdown",
   "metadata": {},
   "source": [
    "## Hipótese 1: músicas sem falas explícitas têm maiores chances de fazer sucesso."
   ]
  },
  {
   "cell_type": "code",
   "execution_count": 22,
   "metadata": {},
   "outputs": [
    {
     "data": {
      "image/png": "[encoded data removed]",
      "text/plain": [
       "<Figure size 800x600 with 1 Axes>"
      ]
     },
     "metadata": {},
     "output_type": "display_data"
    }
   ],
   "source": [
    "import seaborn as sns\n",
    "import matplotlib.pyplot as plt\n",
    "\n",
    "# Gráfico de barras para a Hipótese 1\n",
    "plt.figure(figsize=(8,6))\n",
    "sns.barplot(x='explicit', y='popularity_target', data=df_train)\n",
    "plt.title('Popularidade Média de Músicas Explícitas vs Não Explícitas')\n",
    "plt.xlabel('Música Explícita (0 = Não, 1 = Sim)')\n",
    "plt.ylabel('Popularidade Média')\n",
    "plt.show()\n"
   ]
  },
  {
   "cell_type": "markdown",
   "metadata": {},
   "source": [
    "## Hipótese 2: músicas com vocais têm maiores chances de fazer sucesso."
   ]
  },
  {
   "cell_type": "code",
   "execution_count": 23,
   "metadata": {},
   "outputs": [
    {
     "data": {
      "image/png": "[encoded data removed]",
      "text/plain": [
       "<Figure size 800x600 with 1 Axes>"
      ]
     },
     "metadata": {},
     "output_type": "display_data"
    }
   ],
   "source": [
    "# Gráfico de barras para a Hipótese 2\n",
    "plt.figure(figsize=(8,6))\n",
    "df_train['vocal_presence'] = df_train['instrumentalness'] < 0.5  # Considerar músicas com vocal se instrumentalness < 0.5\n",
    "sns.barplot(x='vocal_presence', y='popularity_target', data=df_train)\n",
    "plt.title('Popularidade Média de Músicas com Vocais vs Instrumentais')\n",
    "plt.xlabel('Música com Vocais (True = Sim, False = Não)')\n",
    "plt.ylabel('Popularidade Média')\n",
    "plt.show()\n"
   ]
  },
  {
   "cell_type": "markdown",
   "metadata": {},
   "source": [
    "## Hipótese 3: músicas não acústicas têm maiores chances de fazer sucesso."
   ]
  },
  {
   "cell_type": "code",
   "execution_count": 24,
   "metadata": {},
   "outputs": [
    {
     "data": {
      "image/png": "[encoded data removed]",
      "text/plain": [
       "<Figure size 800x600 with 1 Axes>"
      ]
     },
     "metadata": {},
     "output_type": "display_data"
    }
   ],
   "source": [
    "# Gráfico de barras para a Hipótese 3\n",
    "plt.figure(figsize=(8,6))\n",
    "df_train['non_acoustic'] = df_train['acousticness'] < 0.5  # Considerar música não acústica se acousticness < 0.5\n",
    "sns.barplot(x='non_acoustic', y='popularity_target', data=df_train)\n",
    "plt.title('Popularidade Média de Músicas Não Acústicas vs Acústicas')\n",
    "plt.xlabel('Música Não Acústica (True = Sim, False = Não)')\n",
    "plt.ylabel('Popularidade Média')\n",
    "plt.show()\n"
   ]
  },
  {
   "cell_type": "markdown",
   "metadata": {},
   "source": [
    "Após definir as 3 hipóteses, foram selecionadas as features mais importantes e que seriam utilizadas para a criação e desenvolvimento do modelo de predição da popularidade."
   ]
  },
  {
   "cell_type": "code",
   "execution_count": 25,
   "metadata": {},
   "outputs": [],
   "source": [
    "features_selecionadas = [\n",
    "    'loudness',\n",
    "    'explicit',\n",
    "    'instrumentalness',\n",
    "    'track_genre',\n",
    "    'acousticness',\n",
    "    'valence',\n",
    "    'speechiness',\n",
    "    'danceability'\n",
    "]"
   ]
  },
  {
   "cell_type": "markdown",
   "metadata": {},
   "source": [
    "# 6. Construção do modelo"
   ]
  },
  {
   "cell_type": "markdown",
   "metadata": {},
   "source": [
    "Para escolher o melhor modelo, foram escolhidos 4 tipos de modelos supervisionados para comparação de métricas e decisão de qual modelo seguir: Regressão Logística, GradientBoost, Random Forest e KNN (K-Nearest Neighbors)."
   ]
  },
  {
   "cell_type": "code",
   "execution_count": 26,
   "metadata": {},
   "outputs": [],
   "source": [
    "import pandas as pd\n",
    "from sklearn.model_selection import train_test_split, RandomizedSearchCV\n",
    "from sklearn.ensemble import RandomForestClassifier, GradientBoostingClassifier\n",
    "from sklearn.linear_model import LogisticRegression\n",
    "from sklearn.neighbors import KNeighborsClassifier\n",
    "from sklearn.metrics import accuracy_score, f1_score, classification_report\n",
    "\n",
    "# Supondo que df_train e df_test já estejam processados\n",
    "X_train = df_train[features_selecionadas]\n",
    "y_train = df_train['popularity_target']\n",
    "X_test = df_test[features_selecionadas]\n",
    "\n",
    "# Dividir os dados de treino em treino e validação\n",
    "X_train_split, X_val_split, y_train_split, y_val_split = train_test_split(X_train, y_train, test_size=0.2, random_state=42)\n",
    "\n",
    "# # Lista de modelos a serem testados\n",
    "# models = {\n",
    "#     'Random Forest': RandomForestClassifier(random_state=42),\n",
    "#     'Logistic Regression': LogisticRegression(max_iter=1000, random_state=42),\n",
    "#     'Gradient Boosting': GradientBoostingClassifier(random_state=42),\n",
    "#     'KNN': KNeighborsClassifier()\n",
    "# }\n",
    "\n",
    "# # Dicionário para armazenar as acurácias\n",
    "# accuracies = {}\n",
    "\n",
    "# # Treinando e avaliando cada modelo\n",
    "# for model_name, model in models.items():\n",
    "#     # Treinar o modelo\n",
    "#     model.fit(X_train_split, y_train_split)\n",
    "    \n",
    "#     # Fazer predições no conjunto de validação\n",
    "#     y_val_pred = model.predict(X_val_split)\n",
    "    \n",
    "#     # Calcular a acurácia e outras métricas\n",
    "#     accuracy = accuracy_score(y_val_split, y_val_pred)\n",
    "#     f1 = f1_score(y_val_split, y_val_pred)\n",
    "#     accuracies[model_name] = {'Acurácia': accuracy, 'F1-Score': f1}\n",
    "    \n",
    "#     print(f\"Acurácia do {model_name}: {accuracy:.4f}\")\n",
    "#     print(f\"F1-Score do {model_name}: {f1:.4f}\\n\")\n",
    "#     print(classification_report(y_val_split, y_val_pred))\n",
    "\n",
    "# # Gerar predições para o df_test\n",
    "# melhor_modelo = RandomForestClassifier(random_state=42)\n",
    "# melhor_modelo.fit(X_train, y_train)  # Treinar o melhor modelo em todo o conjunto de treino\n",
    "# y_test_pred = melhor_modelo.predict(X_test)  # Fazer predições no df_test\n",
    "\n",
    "# # Criar o DataFrame de submissão\n",
    "# submission = pd.DataFrame({\n",
    "#     'track_unique_id': df_test['track_unique_id'],\n",
    "#     'popularity_target_pred': y_test_pred\n",
    "# })\n",
    "\n",
    "# print(submission.head())  # Visualizar as primeiras linhas do DataFrame de submissão\n"
   ]
  },
  {
   "cell_type": "markdown",
   "metadata": {},
   "source": [
    "Após testar os modelos e analisar a acurácia e o f1-score, o modelo escolhido para seguir com o desenvolvimento foi o RandomForest."
   ]
  },
  {
   "cell_type": "code",
   "execution_count": 27,
   "metadata": {},
   "outputs": [
    {
     "name": "stdout",
     "output_type": "stream",
     "text": [
      "Acurácia (validação): 0.7960\n",
      "F1-Score (validação): 0.7910\n",
      "\n",
      "Relatório de Classificação (validação):\n",
      "              precision    recall  f1-score   support\n",
      "\n",
      "           0       0.81      0.79      0.80      8247\n",
      "           1       0.78      0.80      0.79      7713\n",
      "\n",
      "    accuracy                           0.80     15960\n",
      "   macro avg       0.80      0.80      0.80     15960\n",
      "weighted avg       0.80      0.80      0.80     15960\n",
      "\n",
      "Matriz de Confusão (validação):\n",
      "[[6542 1705]\n",
      " [1551 6162]]\n",
      "   track_unique_id  popularity_target\n",
      "0           113186                  1\n",
      "1            42819                  0\n",
      "2            59311                  0\n",
      "3            91368                  0\n",
      "4            61000                  0\n"
     ]
    }
   ],
   "source": [
    "from sklearn.ensemble import RandomForestClassifier\n",
    "from sklearn.metrics import accuracy_score, f1_score, classification_report, confusion_matrix\n",
    "\n",
    "# Definir o modelo Random Forest\n",
    "rf = RandomForestClassifier(random_state=42)\n",
    "\n",
    "# Treinar o modelo com os dados de treinamento\n",
    "rf.fit(X_train_split, y_train_split)\n",
    "\n",
    "# Fazer predições no conjunto de validação\n",
    "y_val_pred = rf.predict(X_val_split)\n",
    "\n",
    "# Avaliar o modelo no conjunto de validação\n",
    "accuracy = accuracy_score(y_val_split, y_val_pred)\n",
    "f1 = f1_score(y_val_split, y_val_pred)\n",
    "print(f\"Acurácia (validação): {accuracy:.4f}\")\n",
    "print(f\"F1-Score (validação): {f1:.4f}\")\n",
    "print(\"\\nRelatório de Classificação (validação):\")\n",
    "print(classification_report(y_val_split, y_val_pred))\n",
    "\n",
    "# Matriz de Confusão\n",
    "print(\"Matriz de Confusão (validação):\")\n",
    "print(confusion_matrix(y_val_split, y_val_pred))\n",
    "\n",
    "# Fazer predições no conjunto df_test\n",
    "y_test_pred = rf.predict(X_test)\n",
    "\n",
    "# Criar o DataFrame de submissão com track_unique_id e as predições de popularidade\n",
    "submission = pd.DataFrame({\n",
    "    'track_unique_id': df_test['track_unique_id'],\n",
    "    'popularity_target': y_test_pred  # Adicionada a vírgula faltante\n",
    "})\n",
    "\n",
    "print(submission.head())  # Visualizar as primeiras linhas do DataFrame de submissão\n"
   ]
  },
  {
   "cell_type": "markdown",
   "metadata": {},
   "source": [
    "# 7. Ajuste fino de hiperparâmetros"
   ]
  },
  {
   "cell_type": "markdown",
   "metadata": {},
   "source": [
    "O ajuste fino de hiperparâmetros envolve um processo de encontrar quais configurações externas (e escolhidas manualmente) têm a melhor combinação que faça o modelo performar melhor. Para isso, existem diferentes ferramentas e algoritmos que podem ser utilizados para encontrar as melhores combinações, e o escolhido foi o RandomizedSearch, que realiza um certo número de combinações de hiperparâmetros aleatoriamente e traz um resultado aproximado."
   ]
  },
  {
   "cell_type": "code",
   "execution_count": 28,
   "metadata": {},
   "outputs": [],
   "source": [
    "from sklearn.ensemble import RandomForestClassifier\n",
    "from sklearn.model_selection import RandomizedSearchCV\n",
    "from sklearn.metrics import accuracy_score, f1_score, classification_report\n",
    "\n",
    "# Definir o modelo base\n",
    "rf = RandomForestClassifier(random_state=42)\n",
    "\n",
    "# Definir a grade de hiperparâmetros para o RandomizedSearchCV\n",
    "param_distributions = {\n",
    "    'n_estimators': [100, 200, 300, 400, 500],\n",
    "    'max_features': ['auto', 'sqrt', 'log2'],\n",
    "    'max_depth': [10, 20, 30, 40, None],\n",
    "    'min_samples_split': [2, 5, 10],\n",
    "    'min_samples_leaf': [1, 2, 4],\n",
    "    'bootstrap': [True, False]\n",
    "}\n",
    "\n",
    "# Configurar o RandomizedSearchCV\n",
    "random_search_rf = RandomizedSearchCV(estimator=rf, \n",
    "                                      param_distributions=param_distributions, \n",
    "                                      n_iter=100, \n",
    "                                      cv=3, \n",
    "                                      verbose=2, \n",
    "                                      random_state=42, \n",
    "                                      n_jobs=-1)\n",
    "\n",
    "# Treinar o RandomizedSearchCV no conjunto de treino\n",
    "random_search_rf.fit(X_train_split, y_train_split)\n",
    "\n",
    "# Imprimir os melhores hiperparâmetros encontrados\n",
    "print(f\"Melhores Hiperparâmetros: {random_search_rf.best_params_}\")\n",
    "\n",
    "# Fazer predições no conjunto de validação\n",
    "y_val_pred = random_search_rf.predict(X_val_split)\n",
    "\n",
    "# Avaliar o modelo no conjunto de validação\n",
    "accuracy = accuracy_score(y_val_split, y_val_pred)\n",
    "f1 = f1_score(y_val_split, y_val_pred)\n",
    "print(f\"Acurácia (validação): {accuracy:.4f}\")\n",
    "print(f\"F1-Score (validação): {f1:.4f}\")\n",
    "print(\"\\nRelatório de Classificação (validação):\")\n",
    "print(classification_report(y_val_split, y_val_pred))\n",
    "\n",
    "# Fazer predições no conjunto df_test\n",
    "y_test_pred = random_search_rf.predict(X_test)\n",
    "\n",
    "# Criar o DataFrame de submissão com track_unique_id e as predições de popularidade\n",
    "submission = pd.DataFrame({\n",
    "    'track_unique_id': df_test['track_unique_id'],\n",
    "    'popularity_target_pred': y_test_pred\n",
    "})\n",
    "\n",
    "print(submission.head())  # Visualizar as primeiras linhas do DataFrame de submissão\n"
   ]
  },
  {
   "cell_type": "markdown",
   "metadata": {},
   "source": [
    "Por conta do pequeno poder computacional e grande demanda de tempo para rodar o algoritmo de fine tuning, não foi possível encontrar os melhor hiperparâmetros por meio do RandomizedSearch."
   ]
  },
  {
   "cell_type": "markdown",
   "metadata": {},
   "source": [
    "# 8. Exportação do dataframe final e conclusão"
   ]
  },
  {
   "cell_type": "code",
   "execution_count": 31,
   "metadata": {},
   "outputs": [],
   "source": [
    "submission.to_csv('submission.csv', index=False)\n"
   ]
  },
  {
   "cell_type": "code",
   "execution_count": 32,
   "metadata": {},
   "outputs": [
    {
     "data": {
      "text/plain": [
       "(34200, 2)"
      ]
     },
     "execution_count": 32,
     "metadata": {},
     "output_type": "execute_result"
    }
   ],
   "source": [
    "submission.shape"
   ]
  }
 ],
 "metadata": {
  "kernelspec": {
   "display_name": "Python 3",
   "language": "python",
   "name": "python3"
  },
  "language_info": {
   "codemirror_mode": {
    "name": "ipython",
    "version": 3
   },
   "file_extension": ".py",
   "mimetype": "text/x-python",
   "name": "python",
   "nbconvert_exporter": "python",
   "pygments_lexer": "ipython3",
   "version": "3.12.5"
  }
 },
 "nbformat": 4,
 "nbformat_minor": 2
}
